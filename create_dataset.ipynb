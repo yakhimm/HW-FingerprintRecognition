{
 "cells": [
  {
   "cell_type": "markdown",
   "metadata": {},
   "source": []
  },
  {
   "cell_type": "code",
   "execution_count": 1,
   "metadata": {},
   "outputs": [],
   "source": [
    "import numpy as np\n",
    "import pandas as pd\n",
    "import os \n",
    "import matplotlib.pyplot as plt\n",
    "%matplotlib inline\n",
    "\n",
    "import warnings \n",
    "warnings.filterwarnings('ignore')"
   ]
  },
  {
   "cell_type": "code",
   "execution_count": 2,
   "metadata": {},
   "outputs": [],
   "source": [
    "DATASET = 'FVC2002'\n",
    "ROOT_DATABASE = f'../dataset/{DATASET}/base/'\n",
    "NEW_DATABASE = f'../dataset/{DATASET}/database/'"
   ]
  },
  {
   "cell_type": "code",
   "execution_count": 3,
   "metadata": {},
   "outputs": [
    {
     "data": {
      "text/plain": [
       "['DB1_B', 'DB2_B', 'DB3_B', 'DB4_B']"
      ]
     },
     "execution_count": 3,
     "metadata": {},
     "output_type": "execute_result"
    }
   ],
   "source": [
    "list_db = os.listdir(ROOT_DATABASE)\n",
    "list_db"
   ]
  },
  {
   "cell_type": "code",
   "execution_count": 4,
   "metadata": {},
   "outputs": [
    {
     "name": "stdout",
     "output_type": "stream",
     "text": [
      "Create {DATASET} succesfull !!!\n"
     ]
    }
   ],
   "source": [
    "from PIL import Image\n",
    "\n",
    "if DATASET == 'FVC2002':\n",
    "    for step, db in zip(range(len(list_db)), list_db):\n",
    "        db_dir = ROOT_DATABASE + db + '/'\n",
    "        for infile in os.listdir(db_dir):\n",
    "            if infile[-3:] == \"tif\" or infile[-3:] == \"bmp\" :\n",
    "                outfile = f\"{int(infile.split('_')[0]) + step * 10}_{infile[-5:-4]}.jpg\"\n",
    "                \n",
    "                path_input = db_dir + infile\n",
    "                path_output = NEW_DATABASE + outfile\n",
    "                \n",
    "                im = Image.open(path_input)\n",
    "                im.save(path_output, \"JPEG\", quality=90)\n",
    "                \n",
    "    print('Create {DATASET} succesfull !!!')"
   ]
  }
 ],
 "metadata": {
  "kernelspec": {
   "display_name": "Python 3",
   "language": "python",
   "name": "python3"
  },
  "language_info": {
   "codemirror_mode": {
    "name": "ipython",
    "version": 3
   },
   "file_extension": ".py",
   "mimetype": "text/x-python",
   "name": "python",
   "nbconvert_exporter": "python",
   "pygments_lexer": "ipython3",
   "version": "3.10.10"
  }
 },
 "nbformat": 4,
 "nbformat_minor": 2
}
